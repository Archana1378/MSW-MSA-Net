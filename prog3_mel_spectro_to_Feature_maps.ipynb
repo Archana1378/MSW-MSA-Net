{
 "cells": [
  {
   "cell_type": "code",
   "execution_count": null,
   "id": "776a6435-df2d-45e1-baf7-c889147aac3a",
   "metadata": {},
   "outputs": [],
   "source": [
    "import matplotlib.pyplot as plt \n",
    "from keras.models import Model\n",
    "from PIL import Image \n",
    "from tensorflow.keras import layers \n",
    "from tensorflow.keras.preprocessing.image import ImageDataGenerator, load_img \n",
    "from tensorflow.keras.models import Sequential \n",
    "from tensorflow.keras.layers import Conv2D, MaxPooling2D \n",
    "from tensorflow.keras.layers import DepthwiseConv2D\n",
    "from tensorflow.keras.layers import SeparableConv2D\n",
    "from tensorflow.keras.layers import Activation, Dropout, Flatten, Dense \n",
    "from tensorflow.keras.optimizers import Adam \n",
    "import tensorflow as tf \n",
    "import os"
   ]
  },
  {
   "cell_type": "code",
   "execution_count": null,
   "id": "1a406278-e3cb-4c2a-842a-4b01672fc7da",
   "metadata": {},
   "outputs": [],
   "source": [
    "import keras\n",
    "from keras.models import Sequential \n",
    "from keras.layers import Conv2D, MaxPooling2D"
   ]
  },
  {
   "cell_type": "code",
   "execution_count": null,
   "id": "afc2a89b-da5f-4a89-8c50-d4464f8af954",
   "metadata": {},
   "outputs": [],
   "source": [
    "class DepthwiseSeparableConv2D(keras.layers.Layer):\n",
    "  def __init__(self, filters, kernel_size, padding, activation):\n",
    "    super(DepthwiseSeparableConv2D, self).__init__()\n",
    "    self.depthwise = DepthwiseConv2D(kernel_size = kernel_size, padding = padding, activation = activation)\n",
    "    self.pointwise = Conv2D(filters = filters, kernel_size = (1, 1), activation = activation)\n",
    "  def call(self, input_tensor):\n",
    "    x = self.depthwise(input_tensor)\n",
    "    return self.pointwise(x)\n"
   ]
  },
  {
   "cell_type": "code",
   "execution_count": null,
   "id": "351a1fb7-38d3-44ad-adc8-5509e43d7fb8",
   "metadata": {},
   "outputs": [],
   "source": [
    "  \n",
    "\n",
    "visible = keras.Input(shape=(224,224, 3))\n",
    "depthwise_separable = DepthwiseSeparableConv2D(filters=6, kernel_size=(3,3), padding='same', activation=\"relu\")(visible)\n",
    "depthwise_model =Model(inputs=visible, outputs=depthwise_separable)\n",
    "\n",
    "depthwise_model.summary()\n",
    "\n"
   ]
  },
  {
   "cell_type": "code",
   "execution_count": null,
   "id": "2e48c5de-837c-4a4a-8e97-e1def0efee9c",
   "metadata": {},
   "outputs": [],
   "source": [
    "filters=6"
   ]
  },
  {
   "cell_type": "code",
   "execution_count": null,
   "id": "74094c08-9949-459a-a205-a1b48a684ea9",
   "metadata": {},
   "outputs": [],
   "source": [
    "processed=filters"
   ]
  },
  {
   "cell_type": "code",
   "execution_count": null,
   "id": "8f505154-02c8-4317-a73e-0103499f7c9a",
   "metadata": {},
   "outputs": [],
   "source": [
    "processed"
   ]
  },
  {
   "cell_type": "code",
   "execution_count": null,
   "id": "a9a26307-e0d0-4ab0-8d8d-04c9367672e2",
   "metadata": {},
   "outputs": [],
   "source": [
    "input_dir = 'E:/Melspectro_Classes_alldata/ClassA'"
   ]
  },
  {
   "cell_type": "code",
   "execution_count": null,
   "id": "00359f5a-a02a-4c71-af7d-4d5e95edd933",
   "metadata": {},
   "outputs": [],
   "source": [
    "output_dir = 'E:/Melspectro_featmaps/classA'"
   ]
  },
  {
   "cell_type": "code",
   "execution_count": null,
   "id": "d1f99821-09d8-4e38-a5da-50c08294810e",
   "metadata": {},
   "outputs": [],
   "source": [
    "import torch\n",
    "import torch.nn as nn\n"
   ]
  },
  {
   "cell_type": "code",
   "execution_count": null,
   "id": "0dc7ca70-29a3-466b-bfaa-0a30eb51df1a",
   "metadata": {},
   "outputs": [],
   "source": [
    "import numpy as np\n",
    "from PIL import Image\n",
    "import os\n",
    "import matplotlib.pyplot as plt \n",
    "import cv2\n",
    "import glob\n",
    "j=0\n",
    "for img in glob.glob(\"E:/Melspectro_Classes_alldata/ClassA/*.png\"):\n",
    "    cv_img = cv2.imread(img)\n",
    "    image=cv_img\n",
    "    image=cv2.resize(image,(224,224))\n",
    "    feature_map=depthwise_model.predict(np.array([image]))\n",
    "    for i in range(processed):\n",
    "        feature_imagea=feature_map[0,:,:,i]\n",
    "        plt.imshow(feature_imagea)\n",
    "        output_image_path = os.path.join(output_dir, f'feature_imagea{j}_{i}')\n",
    "        plt.axis('off')\n",
    "        plt.savefig(output_image_path)\n",
    "        plt.close()\n",
    "    j=j+1\n",
    "   \n",
    "    "
   ]
  }
 ],
 "metadata": {
  "kernelspec": {
   "display_name": "Python 3 (ipykernel)",
   "language": "python",
   "name": "python3"
  },
  "language_info": {
   "codemirror_mode": {
    "name": "ipython",
    "version": 3
   },
   "file_extension": ".py",
   "mimetype": "text/x-python",
   "name": "python",
   "nbconvert_exporter": "python",
   "pygments_lexer": "ipython3",
   "version": "3.12.2"
  }
 },
 "nbformat": 4,
 "nbformat_minor": 5
}
