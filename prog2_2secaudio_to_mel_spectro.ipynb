{
 "cells": [
  {
   "cell_type": "code",
   "execution_count": null,
   "id": "d51a5849-aa54-464b-85d8-484b0009431c",
   "metadata": {},
   "outputs": [],
   "source": [
    "import os\n",
    "import librosa\n",
    "import librosa.display\n",
    "import matplotlib.pyplot as plt\n",
    "import numpy as np\n",
    "import cv2"
   ]
  },
  {
   "cell_type": "code",
   "execution_count": null,
   "id": "6947b595-66a6-4eae-9803-356896cdbe97",
   "metadata": {},
   "outputs": [],
   "source": [
    "audio_dir = 'E:/twosec_shipear_audiofiles/ClassA_audiofiles_twosec'\n",
    "output_dir = 'E:/Melspectro_Classes_alldata/ClassA'\n",
    "# Create the output directory if it doesn't exist\n",
    "os.makedirs(output_dir, exist_ok=True)\n",
    "\n",
    "# Specify the dimensions for the resized image (in pixels)\n",
    "img_width = 227  # Change this value as needed\n",
    "img_height = 227  # Change this value as needed"
   ]
  },
  {
   "cell_type": "code",
   "execution_count": null,
   "id": "501f96f3-9cac-4717-8545-fdec2f2409dd",
   "metadata": {},
   "outputs": [],
   "source": [
    "def audio_segment_to_mel_spectrogram_rgb_227(audio_path, output_dir, img_width, img_height, duration=None):\n",
    "    # Load the audio file\n",
    "    y, sr = librosa.load(audio_path, duration=duration)\n",
    "\n",
    "    # Generate mel-spectrogram\n",
    "    mel_spectrogram = librosa.feature.melspectrogram(y=y, sr=sr)\n",
    "\n",
    "    # Convert to decibels\n",
    "    mel_spec = librosa.power_to_db(mel_spectrogram, ref=np.max)\n",
    "\n",
    "    # Plot mel-spectrogram without axes, title, or colorbar\n",
    "    plt.figure(figsize=(227/300, 227/300), dpi=300)\n",
    "    librosa.display.specshow(mel_spec, sr=sr)\n",
    "        \n",
    "    # Get the original audio file name without extension\n",
    "    audio_filename = os.path.splitext(os.path.basename(audio_path))[0]\n",
    "    \n",
    "    # Save the image with the same name as the audio file\n",
    "    output_image_path = os.path.join(output_dir, f'{audio_filename}.png')\n",
    "    plt.savefig(output_image_path, bbox_inches='tight', pad_inches=0)\n",
    "    plt.close()\n",
    "    "
   ]
  },
  {
   "cell_type": "code",
   "execution_count": null,
   "id": "4a215695-c8cc-4a4d-899d-d05c3be8e814",
   "metadata": {},
   "outputs": [],
   "source": [
    "desired_duration = 2  # Change this value as needed\n",
    "\n",
    "# Loop through the audio files and convert specified audio segments to mel-spectrogram images\n",
    "for audio_file in os.listdir(audio_dir):\n",
    "    if audio_file.endswith('.wav'):\n",
    "        audio_path = os.path.join(audio_dir, audio_file)\n",
    "        audio_segment_to_mel_spectrogram_rgb_227(audio_path, output_dir, img_width, img_height, duration=desired_duration)\n",
    "\n",
    "print(\"Conversion complete.\")"
   ]
  }
 ],
 "metadata": {
  "kernelspec": {
   "display_name": "pythonlab",
   "language": "python",
   "name": "python3"
  },
  "language_info": {
   "codemirror_mode": {
    "name": "ipython",
    "version": 3
   },
   "file_extension": ".py",
   "mimetype": "text/x-python",
   "name": "python",
   "nbconvert_exporter": "python",
   "pygments_lexer": "ipython3",
   "version": "3.12.2"
  }
 },
 "nbformat": 4,
 "nbformat_minor": 5
}
