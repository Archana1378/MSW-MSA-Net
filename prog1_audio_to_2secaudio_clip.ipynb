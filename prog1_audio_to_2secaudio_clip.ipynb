{
 "cells": [
  {
   "cell_type": "code",
   "execution_count": null,
   "id": "85afe134",
   "metadata": {},
   "outputs": [],
   "source": [
    "import os\n",
    "import soundfile as sf\n",
    "import numpy as np\n"
   ]
  },
  {
   "cell_type": "code",
   "execution_count": null,
   "id": "6466d574",
   "metadata": {},
   "outputs": [],
   "source": [
    "def split_audio_into_chunks(audio_path, output_dir, chunk_duration=2.0):\n",
    "    \"\"\"Splits a single audio file into fixed-length chunks.\"\"\"\n",
    "    signal, sr = sf.read(audio_path)\n",
    "    total_samples = len(signal)\n",
    "    chunk_samples = int(chunk_duration * sr)\n",
    "\n",
    "    base_name = os.path.splitext(os.path.basename(audio_path))[0]  \n",
    "\n",
    "    for i in range(0, total_samples, chunk_samples):\n",
    "        chunk = signal[i:i + chunk_samples]\n",
    "        if len(chunk) < chunk_samples:\n",
    "            padding = [0] * (chunk_samples - len(chunk))\n",
    "            chunk = np.append(chunk, padding)\n",
    "\n",
    "        out_file = os.path.join(output_dir, f\"{base_name}_part{i // chunk_samples}.wav\")\n",
    "        sf.write(out_file, chunk, sr)\n",
    "        print(f\"Saved: {out_file}\")  "
   ]
  },
  {
   "cell_type": "code",
   "execution_count": null,
   "id": "4d993b69",
   "metadata": {},
   "outputs": [],
   "source": [
    "def split_all_in_folder(input_folder, output_folder, chunk_duration=2.0):\n",
    "    \"\"\"Process all .wav files in a folder and split them into chunks.\"\"\"\n",
    "    os.makedirs(output_folder, exist_ok=True)\n",
    "\n",
    "    for filename in os.listdir(input_folder):\n",
    "        if filename.endswith(\".wav\"):\n",
    "            full_path = os.path.join(input_folder, filename)\n",
    "            split_audio_into_chunks(full_path, output_folder, chunk_duration)"
   ]
  },
  {
   "cell_type": "code",
   "execution_count": null,
   "id": "0fd7dadc",
   "metadata": {},
   "outputs": [],
   "source": [
    "input_folder = \"D:/shipEar data set/shipEar90adiofiles_classes/ClassaudioA\"\n",
    "output_folder = \"E:/twosec_shipear_audiofiles/ClassA_audiofiles_twosec\"\n",
    "split_all_in_folder(input_folder, output_folder, chunk_duration=2.0)"
   ]
  }
 ],
 "metadata": {
  "kernelspec": {
   "display_name": "base",
   "language": "python",
   "name": "python3"
  },
  "language_info": {
   "codemirror_mode": {
    "name": "ipython",
    "version": 3
   },
   "file_extension": ".py",
   "mimetype": "text/x-python",
   "name": "python",
   "nbconvert_exporter": "python",
   "pygments_lexer": "ipython3",
   "version": "3.12.4"
  }
 },
 "nbformat": 4,
 "nbformat_minor": 5
}
